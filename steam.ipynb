{
 "cells": [
  {
   "cell_type": "code",
   "execution_count": 1,
   "metadata": {},
   "outputs": [],
   "source": [
    "import pandas as pd\n",
    "import seaborn as sns\n",
    "\n",
    "from sklearn.metrics.pairwise import cosine_similarity\n",
    "import numpy as np"
   ]
  },
  {
   "cell_type": "code",
   "execution_count": 2,
   "metadata": {},
   "outputs": [
    {
     "data": {
      "text/html": [
       "<div>\n",
       "<style scoped>\n",
       "    .dataframe tbody tr th:only-of-type {\n",
       "        vertical-align: middle;\n",
       "    }\n",
       "\n",
       "    .dataframe tbody tr th {\n",
       "        vertical-align: top;\n",
       "    }\n",
       "\n",
       "    .dataframe thead th {\n",
       "        text-align: right;\n",
       "    }\n",
       "</style>\n",
       "<table border=\"1\" class=\"dataframe\">\n",
       "  <thead>\n",
       "    <tr style=\"text-align: right;\">\n",
       "      <th></th>\n",
       "      <th>0</th>\n",
       "      <th>1</th>\n",
       "      <th>2</th>\n",
       "      <th>3</th>\n",
       "      <th>4</th>\n",
       "    </tr>\n",
       "  </thead>\n",
       "  <tbody>\n",
       "    <tr>\n",
       "      <th>0</th>\n",
       "      <td>151603712</td>\n",
       "      <td>The Elder Scrolls V Skyrim</td>\n",
       "      <td>purchase</td>\n",
       "      <td>1.0</td>\n",
       "      <td>0</td>\n",
       "    </tr>\n",
       "    <tr>\n",
       "      <th>1</th>\n",
       "      <td>151603712</td>\n",
       "      <td>The Elder Scrolls V Skyrim</td>\n",
       "      <td>play</td>\n",
       "      <td>273.0</td>\n",
       "      <td>0</td>\n",
       "    </tr>\n",
       "    <tr>\n",
       "      <th>2</th>\n",
       "      <td>151603712</td>\n",
       "      <td>Fallout 4</td>\n",
       "      <td>purchase</td>\n",
       "      <td>1.0</td>\n",
       "      <td>0</td>\n",
       "    </tr>\n",
       "    <tr>\n",
       "      <th>3</th>\n",
       "      <td>151603712</td>\n",
       "      <td>Fallout 4</td>\n",
       "      <td>play</td>\n",
       "      <td>87.0</td>\n",
       "      <td>0</td>\n",
       "    </tr>\n",
       "    <tr>\n",
       "      <th>4</th>\n",
       "      <td>151603712</td>\n",
       "      <td>Spore</td>\n",
       "      <td>purchase</td>\n",
       "      <td>1.0</td>\n",
       "      <td>0</td>\n",
       "    </tr>\n",
       "  </tbody>\n",
       "</table>\n",
       "</div>"
      ],
      "text/plain": [
       "           0                           1         2      3  4\n",
       "0  151603712  The Elder Scrolls V Skyrim  purchase    1.0  0\n",
       "1  151603712  The Elder Scrolls V Skyrim      play  273.0  0\n",
       "2  151603712                   Fallout 4  purchase    1.0  0\n",
       "3  151603712                   Fallout 4      play   87.0  0\n",
       "4  151603712                       Spore  purchase    1.0  0"
      ]
     },
     "execution_count": 2,
     "metadata": {},
     "output_type": "execute_result"
    }
   ],
   "source": [
    "dataset = pd.read_csv('database/steam.csv', header=None)\n",
    "\n",
    "dataset.head() \n",
    "# dataset.info()"
   ]
  },
  {
   "cell_type": "code",
   "execution_count": 3,
   "metadata": {},
   "outputs": [
    {
     "data": {
      "text/html": [
       "<div>\n",
       "<style scoped>\n",
       "    .dataframe tbody tr th:only-of-type {\n",
       "        vertical-align: middle;\n",
       "    }\n",
       "\n",
       "    .dataframe tbody tr th {\n",
       "        vertical-align: top;\n",
       "    }\n",
       "\n",
       "    .dataframe thead th {\n",
       "        text-align: right;\n",
       "    }\n",
       "</style>\n",
       "<table border=\"1\" class=\"dataframe\">\n",
       "  <thead>\n",
       "    <tr style=\"text-align: right;\">\n",
       "      <th></th>\n",
       "      <th>user_id</th>\n",
       "      <th>game_title</th>\n",
       "      <th>purchase_status</th>\n",
       "      <th>hours_played</th>\n",
       "      <th>0</th>\n",
       "    </tr>\n",
       "  </thead>\n",
       "  <tbody>\n",
       "    <tr>\n",
       "      <th>0</th>\n",
       "      <td>151603712</td>\n",
       "      <td>The Elder Scrolls V Skyrim</td>\n",
       "      <td>purchase</td>\n",
       "      <td>1.0</td>\n",
       "      <td>0</td>\n",
       "    </tr>\n",
       "    <tr>\n",
       "      <th>1</th>\n",
       "      <td>151603712</td>\n",
       "      <td>The Elder Scrolls V Skyrim</td>\n",
       "      <td>play</td>\n",
       "      <td>273.0</td>\n",
       "      <td>0</td>\n",
       "    </tr>\n",
       "    <tr>\n",
       "      <th>2</th>\n",
       "      <td>151603712</td>\n",
       "      <td>Fallout 4</td>\n",
       "      <td>purchase</td>\n",
       "      <td>1.0</td>\n",
       "      <td>0</td>\n",
       "    </tr>\n",
       "    <tr>\n",
       "      <th>3</th>\n",
       "      <td>151603712</td>\n",
       "      <td>Fallout 4</td>\n",
       "      <td>play</td>\n",
       "      <td>87.0</td>\n",
       "      <td>0</td>\n",
       "    </tr>\n",
       "    <tr>\n",
       "      <th>4</th>\n",
       "      <td>151603712</td>\n",
       "      <td>Spore</td>\n",
       "      <td>purchase</td>\n",
       "      <td>1.0</td>\n",
       "      <td>0</td>\n",
       "    </tr>\n",
       "  </tbody>\n",
       "</table>\n",
       "</div>"
      ],
      "text/plain": [
       "     user_id                  game_title purchase_status  hours_played  0\n",
       "0  151603712  The Elder Scrolls V Skyrim        purchase           1.0  0\n",
       "1  151603712  The Elder Scrolls V Skyrim            play         273.0  0\n",
       "2  151603712                   Fallout 4        purchase           1.0  0\n",
       "3  151603712                   Fallout 4            play          87.0  0\n",
       "4  151603712                       Spore        purchase           1.0  0"
      ]
     },
     "execution_count": 3,
     "metadata": {},
     "output_type": "execute_result"
    }
   ],
   "source": [
    "dataset.columns = ['user_id', 'game_title', 'purchase_status', 'hours_played','0']\n",
    "dataset.head()"
   ]
  },
  {
   "cell_type": "code",
   "execution_count": 4,
   "metadata": {},
   "outputs": [
    {
     "data": {
      "text/plain": [
       "<Axes: >"
      ]
     },
     "execution_count": 4,
     "metadata": {},
     "output_type": "execute_result"
    },
    {
     "data": {
      "image/png": "[encoded data removed]",
      "text/plain": [
       "<Figure size 640x480 with 1 Axes>"
      ]
     },
     "metadata": {},
     "output_type": "display_data"
    }
   ],
   "source": [
    "sns.heatmap(dataset.isnull(), yticklabels=False, cbar=False, cmap= 'viridis')"
   ]
  },
  {
   "cell_type": "code",
   "execution_count": 5,
   "metadata": {},
   "outputs": [
    {
     "data": {
      "text/plain": [
       "((12393, 5155),\n",
       " game_title  007 Legends  0RBITALIS  \\\n",
       " user_id                              \n",
       " 5250                0.0        0.0   \n",
       " 76767               0.0        0.0   \n",
       " 86540               0.0        0.0   \n",
       " 103360              0.0        0.0   \n",
       " 144736              0.0        0.0   \n",
       " \n",
       " game_title  1... 2... 3... KICK IT! (Drop That Beat Like an Ugly Baby)  \\\n",
       " user_id                                                                  \n",
       " 5250                                                      0.0            \n",
       " 76767                                                     0.0            \n",
       " 86540                                                     0.0            \n",
       " 103360                                                    0.0            \n",
       " 144736                                                    0.0            \n",
       " \n",
       " game_title  10 Second Ninja  10,000,000  100% Orange Juice  1000 Amps  \\\n",
       " user_id                                                                 \n",
       " 5250                    0.0         0.0                0.0        0.0   \n",
       " 76767                   0.0         0.0                0.0        0.0   \n",
       " 86540                   0.0         0.0                0.0        0.0   \n",
       " 103360                  0.0         0.0                0.0        0.0   \n",
       " 144736                  0.0         0.0                0.0        0.0   \n",
       " \n",
       " game_title  12 Labours of Hercules  12 Labours of Hercules II The Cretan Bull  \\\n",
       " user_id                                                                         \n",
       " 5250                           0.0                                        0.0   \n",
       " 76767                          0.0                                        0.0   \n",
       " 86540                          0.0                                        0.0   \n",
       " 103360                         0.0                                        0.0   \n",
       " 144736                         0.0                                        0.0   \n",
       " \n",
       " game_title  12 Labours of Hercules III Girl Power  ...  rFactor 2  realMyst  \\\n",
       " user_id                                            ...                        \n",
       " 5250                                          0.0  ...        0.0       0.0   \n",
       " 76767                                         0.0  ...        0.0       0.0   \n",
       " 86540                                         0.0  ...        0.0       0.0   \n",
       " 103360                                        0.0  ...        0.0       0.0   \n",
       " 144736                                        0.0  ...        0.0       0.0   \n",
       " \n",
       " game_title  realMyst Masterpiece Edition  resident evil 4 / biohazard 4  \\\n",
       " user_id                                                                   \n",
       " 5250                                 0.0                            0.0   \n",
       " 76767                                0.0                            0.0   \n",
       " 86540                                0.0                            0.0   \n",
       " 103360                               0.0                            0.0   \n",
       " 144736                               0.0                            0.0   \n",
       " \n",
       " game_title  rymdkapsel  sZone-Online  samurai_jazz  the static speaks my name  \\\n",
       " user_id                                                                         \n",
       " 5250               0.0           0.0             0                        0.0   \n",
       " 76767              0.0           0.0             0                        0.0   \n",
       " 86540              0.0           0.0             0                        0.0   \n",
       " 103360             0.0           0.0             0                        0.0   \n",
       " 144736             0.0           0.0             0                        0.0   \n",
       " \n",
       " game_title  theHunter  theHunter Primal  \n",
       " user_id                                  \n",
       " 5250              0.0               0.0  \n",
       " 76767             0.0               0.0  \n",
       " 86540             0.0               0.0  \n",
       " 103360            0.0               0.0  \n",
       " 144736            0.0               0.0  \n",
       " \n",
       " [5 rows x 5155 columns])"
      ]
     },
     "execution_count": 5,
     "metadata": {},
     "output_type": "execute_result"
    }
   ],
   "source": [
    "# Separate purchase and play data\n",
    "purchase_data = dataset[dataset['purchase_status'] == 'purchase']\n",
    "play_data = dataset[dataset['purchase_status'] == 'play']\n",
    "\n",
    "# Merge purchase and play data on user_id and game_title\n",
    "merged_data = pd.merge(\n",
    "    purchase_data[['user_id', 'game_title', 'hours_played']],  # Only need purchase records\n",
    "    play_data[['user_id', 'game_title', 'hours_played']],\n",
    "    on=['user_id', 'game_title'],\n",
    "    how='left',\n",
    "    suffixes=('_purchase', '_play')  # Differentiate columns\n",
    ")\n",
    "\n",
    "# Determine actual hours played (default to 1 if no play data exists)\n",
    "merged_data['actual_hours_played'] = merged_data['hours_played_play'].fillna(1.0)\n",
    "\n",
    "# Create the interaction matrix\n",
    "interaction_matrix = merged_data.pivot_table(\n",
    "    index='user_id',\n",
    "    columns='game_title',\n",
    "    values='actual_hours_played',\n",
    "    fill_value=0  # Fill missing values with 0 (indicating no play or purchase)\n",
    ")\n",
    "\n",
    "# Display the shape and a sample of the interaction matrix\n",
    "interaction_matrix.shape, interaction_matrix.head()\n"
   ]
  },
  {
   "cell_type": "code",
   "execution_count": 6,
   "metadata": {},
   "outputs": [],
   "source": [
    "game_similarity = cosine_similarity(interaction_matrix.T)  \n",
    "game_similarity_df = pd.DataFrame(\n",
    "    game_similarity, \n",
    "    index=interaction_matrix.columns, \n",
    "    columns=interaction_matrix.columns\n",
    ")"
   ]
  },
  {
   "cell_type": "code",
   "execution_count": 7,
   "metadata": {},
   "outputs": [],
   "source": [
    "def recommender(user_id, interaction_matrix, similarity_matrix, top_n=5):\n",
    "    user_play_history = interaction_matrix.loc[user_id]\n",
    "    \n",
    "    played_games = user_play_history[user_play_history > 0].index\n",
    "    scores = similarity_matrix.loc[played_games].sum(axis=0) #unplayed games\n",
    "    \n",
    "    scores = scores.drop(played_games)\n",
    "    return scores.nlargest(top_n)"
   ]
  },
  {
   "cell_type": "code",
   "execution_count": 11,
   "metadata": {},
   "outputs": [
    {
     "name": "stdout",
     "output_type": "stream",
     "text": [
      "Top recommendations for user 1268792:\n",
      " game_title\n",
      "Sniper Elite                   1.911481\n",
      "War Inc. Battlezone            1.819680\n",
      "Half-Life Deathmatch Source    1.760545\n",
      "Half-Life 2 Lost Coast         1.535737\n",
      "Half-Life 2 Episode Two        1.309461\n",
      "dtype: float64\n"
     ]
    }
   ],
   "source": [
    "user_id = interaction_matrix.index[34] #index 0 to 12393\n",
    "recommendations = recommender(user_id, interaction_matrix, game_similarity_df)\n",
    "print(f\"Top recommendations for user {user_id}:\\n\", recommendations)"
   ]
  }
 ],
 "metadata": {
  "kernelspec": {
   "display_name": "Python 3",
   "language": "python",
   "name": "python3"
  },
  "language_info": {
   "codemirror_mode": {
    "name": "ipython",
    "version": 3
   },
   "file_extension": ".py",
   "mimetype": "text/x-python",
   "name": "python",
   "nbconvert_exporter": "python",
   "pygments_lexer": "ipython3",
   "version": "3.11.4"
  }
 },
 "nbformat": 4,
 "nbformat_minor": 2
}
