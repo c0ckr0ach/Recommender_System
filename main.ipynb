{
 "cells": [
  {
   "cell_type": "code",
   "execution_count": 2,
   "metadata": {},
   "outputs": [],
   "source": [
    "import pandas as pd\n",
    "from sklearn.preprocessing import MinMaxScaler"
   ]
  },
  {
   "cell_type": "code",
   "execution_count": 4,
   "metadata": {},
   "outputs": [
    {
     "name": "stdout",
     "output_type": "stream",
     "text": [
      "<bound method NDFrame.head of               id  score  amount\n",
      "0        1000001    0.5       6\n",
      "1        1000001    1.0       5\n",
      "2        1000001    1.5       1\n",
      "3        1000001    2.0       5\n",
      "4        1000001    2.5      11\n",
      "...          ...    ...     ...\n",
      "1952085  1204012    3.0       0\n",
      "1952086  1204012    3.5       0\n",
      "1952087  1204012    4.0       0\n",
      "1952088  1204012    4.5       0\n",
      "1952089  1204012    5.0       0\n",
      "\n",
      "[1952090 rows x 3 columns]>\n"
     ]
    }
   ],
   "source": [
    "games = pd.read_csv('database/games.csv')\n",
    "developers = pd.read_csv('database/developers.csv')\n",
    "genres = pd.read_csv('database/genres.csv')\n",
    "platforms = pd.read_csv('database/platforms.csv')\n",
    "scores = pd.read_csv('database/scores.csv')\n",
    "\n",
    "print(scores.head)"
   ]
  },
  {
   "cell_type": "markdown",
   "metadata": {},
   "source": [
    "The data isn't merged into one file as it leads to the file size getting too large"
   ]
  },
  {
   "cell_type": "code",
   "execution_count": 6,
   "metadata": {},
   "outputs": [],
   "source": [
    "merged_db = pd.merge(games, scores, on='id')\n",
    "\n",
    "item_features = merged_db[['rating', 'reviews', 'plays', 'playing', 'backlogs', 'wishlists', 'score', 'amount']]\n",
    "#feature normalization\n",
    "scaler = MinMaxScaler()\n",
    "normalized_features = pd.DataFrame(scaler.fit_transform(item_features), columns=item_features.columns)\n",
    "\n",
    "normalized_features['id'] = merged_db['id']"
   ]
  },
  {
   "cell_type": "code",
   "execution_count": null,
   "metadata": {},
   "outputs": [],
   "source": []
  }
 ],
 "metadata": {
  "kernelspec": {
   "display_name": "Python 3",
   "language": "python",
   "name": "python3"
  },
  "language_info": {
   "codemirror_mode": {
    "name": "ipython",
    "version": 3
   },
   "file_extension": ".py",
   "mimetype": "text/x-python",
   "name": "python",
   "nbconvert_exporter": "python",
   "pygments_lexer": "ipython3",
   "version": "3.11.4"
  }
 },
 "nbformat": 4,
 "nbformat_minor": 2
}
